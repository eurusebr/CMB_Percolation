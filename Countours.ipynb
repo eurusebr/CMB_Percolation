{
 "cells": [
  {
   "cell_type": "code",
   "execution_count": null,
   "id": "387aec25",
   "metadata": {},
   "outputs": [],
   "source": [
    "#this piece of code calculates the Coastline length for a specific elevation on earth"
   ]
  },
  {
   "cell_type": "code",
   "execution_count": null,
   "id": "detected-square",
   "metadata": {},
   "outputs": [],
   "source": [
    "#Libraries\n",
    "from scipy.ndimage.filters import gaussian_filter\n",
    "import matplotlib.pyplot as plt\n",
    "from netCDF4 import Dataset\n",
    "import numpy as np\n",
    "import os\n",
    "from tqdm import tqdm\n",
    "from scipy.ndimage import measurements\n",
    "import time\n",
    "import sympy\n",
    "import concurrent.futures"
   ]
  },
  {
   "cell_type": "code",
   "execution_count": null,
   "id": "affiliated-trust",
   "metadata": {},
   "outputs": [],
   "source": [
    "#we calculate the coastline length for 5 specific elevation of the orginal data. these elevations are the peaks of the graph in the paper\n",
    "from skimage import measure\n",
    "\n",
    "unique_hieght = np.unique(hieght)\n",
    "total_lat = np.sum(np.abs(np.cos(lat_topo)))\n",
    "\n",
    "new = np.array([6056, 9576, 10655, 10656, 10657])\n",
    "\n",
    "dphi = 0.0167\n",
    "dtheta = 0.0167\n",
    "squares1 = []\n",
    "\n",
    "for i in range(5):\n",
    "    print(i)\n",
    "    sphere = 0\n",
    "    hieght_array = (topo[:,:] <= unique_hieght[new[i]])\n",
    "    contours = measure.find_contours(hieght_array, 0.7)\n",
    "    if np.shape(contours)[0]>0:\n",
    "\n",
    "        coordinate = []\n",
    "        for k in range(len(contours)):\n",
    "            lat = np.array(lat_topo)[contours[k][:,0].astype(int), contours[k][:,1].astype(int)]\n",
    "            long = np.array(lon_topo)[contours[k][:,0].astype(int), contours[k][:,1].astype(int)] \n",
    "            coordinate.append(np.column_stack((lat, long)))\n",
    "        for k in range(len(coordinate)):\n",
    "            for j in range(len(coordinate[k])-1):\n",
    "\n",
    "                if(coordinate[k][j,0] == coordinate[k][j+1,0] and coordinate[k][j,1] != coordinate[k][j+1,1]):\n",
    "                    sphere += np.cos(coordinate[k][j,0])*dphi\n",
    "                if(coordinate[k][j,0] != coordinate[k][j+1,0] and coordinate[k][j,1] == coordinate[k][j+1,1]):\n",
    "                    sphere += dtheta\n",
    "                if(coordinate[k][j,0] != coordinate[k][j+1,0] and coordinate[k][j,1] != coordinate[k][j+1,1]):\n",
    "                    sphere += dtheta + np.cos(coordinate[k][j,0])*dphi\n",
    "        \n",
    "    squares1.append(sphere)\n",
    "\n",
    "\n",
    "\n",
    "\n",
    "\n",
    "np.save(\"/home/complex/c++/Earth/total_iso_hight_1.npy\", squares1)"
   ]
  }
 ],
 "metadata": {
  "kernelspec": {
   "display_name": "Python 3",
   "language": "python",
   "name": "python3"
  },
  "language_info": {
   "codemirror_mode": {
    "name": "ipython",
    "version": 3
   },
   "file_extension": ".py",
   "mimetype": "text/x-python",
   "name": "python",
   "nbconvert_exporter": "python",
   "pygments_lexer": "ipython3",
   "version": "3.8.8"
  }
 },
 "nbformat": 4,
 "nbformat_minor": 5
}
